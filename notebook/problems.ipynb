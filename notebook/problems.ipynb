{
 "cells": [
  {
   "cell_type": "markdown",
   "id": "ac622319",
   "metadata": {},
   "source": [
    "# Descriptive statistics problems"
   ]
  },
  {
   "cell_type": "code",
   "execution_count": 43,
   "id": "078b5cb7-5f28-4e35-af8c-668f970aeeb2",
   "metadata": {},
   "outputs": [],
   "source": [
    "import random\n",
    "import numpy as np\n",
    "import statistics as stats\n",
    "from scipy.stats import skew\n",
    "from scipy.stats import kurtosis\n",
    "import matplotlib.pyplot as plt"
   ]
  },
  {
   "cell_type": "markdown",
   "id": "5e0ab0d5",
   "metadata": {},
   "source": [
    "### Exercise 1\n",
    "\n",
    "We will use NumPy to obtain information to describe statistically.\n",
    "\n",
    "- Generate an array of 100 elements following a normal distribution.\n",
    "- Generate an array of 100 elements following a chi-square distribution with 3 degrees of freedom.\n",
    "- Calculate the main metrics and statistical measures that best describe the two vectors."
   ]
  },
  {
   "cell_type": "code",
   "execution_count": 4,
   "id": "34720ab6",
   "metadata": {},
   "outputs": [
    {
     "name": "stdout",
     "output_type": "stream",
     "text": [
      "Normal Distribution with mean 0 and std 1\n",
      "\n",
      "[ 1.61491317 -0.61017153  0.7507385  -1.90836117  0.97593055 -0.98733545\n",
      "  0.19631523 -1.84075222  0.27290979  0.32292359  1.20512092 -2.00751165\n",
      " -1.87714429 -1.23551167 -1.61264056 -0.22559669  0.05009132 -3.54413583\n",
      " -1.38589075  0.75925426 -1.35343595 -0.16337569  1.41161244  0.86798566\n",
      "  0.42020391  0.57978069 -0.01177331 -0.40945469  1.19941325 -0.03887626\n",
      " -0.22172377  1.21992935  2.87063271 -0.74384753 -0.72655017 -0.02107271\n",
      "  0.30598374 -1.09689167  0.08374999  0.38174005  0.40067685 -1.2046055\n",
      " -0.95511097  0.1689876  -1.50390679 -2.91003894 -1.21595971  0.72866746\n",
      "  0.65836284 -0.46183476  1.74017836  0.37373867  0.5075597   0.95246041\n",
      "  2.0848962  -0.43019114 -1.21349331  0.76693127  0.73996998 -0.73963076\n",
      " -2.01300789 -0.76514496  1.37653388 -1.01724417 -0.2371093   1.79742861\n",
      "  0.91972811  0.56062396 -0.20789888  0.03826193 -0.8131355   0.93630312\n",
      "  1.92187533  1.32553385  0.84929134  0.47146779  1.33370702  0.82079733\n",
      " -0.9665002   0.18691986  0.71496147  1.28256644  1.10306761  0.21574277\n",
      "  1.25915694 -0.23109877  0.94321419  1.7113036  -1.55496491  0.05547909\n",
      "  0.13206117  1.35560342  0.84958724  0.52576128 -0.37797081 -0.34280548\n",
      " -1.19432657  1.69263993  0.58336507 -0.26098322]\n",
      "\n",
      "\n",
      "Chi-square Distribution with 3 degrees of freedom\n",
      "\n",
      "[ 4.9188591   8.45887529  1.72641442  6.34631681  1.46714763  8.36925179\n",
      "  1.13227307  0.23880826  0.20354085  4.48200629  1.82398904  2.46761631\n",
      "  3.39876387  9.76551879  2.36286843  3.27757151  2.91291171  3.31807684\n",
      "  3.37042096 11.38919001  1.21969185  1.6806486   1.67375898  3.42011162\n",
      "  1.52120277  1.26877393  3.64129344  1.53664285  1.23157876  4.40771186\n",
      "  0.64131677  2.73730758  9.74412821  4.35263968  0.70988693  2.26571589\n",
      "  6.41849303  2.05199237  0.86703552  2.48740469  1.96874022  2.99549322\n",
      "  3.95407074  5.17705104  6.38463524  1.58346603  6.96796317  1.1705948\n",
      "  0.50401057  2.05099532  0.43808998  3.82824964  0.32993419  3.70028029\n",
      "  3.03627158  6.80702979  4.44327177  1.33055119  0.13298082  4.42237871\n",
      "  2.25298965  0.74188299  1.80035498  0.17030647  2.81049513  3.43430495\n",
      "  0.99619344  2.07279041  9.46174064  0.07149745  3.93149637  1.86367815\n",
      "  2.05191039  2.77809961  1.56759263  3.72265352  4.13551157  4.75275498\n",
      " 11.55947348  8.96820516  0.10616956  0.38014289  2.03241092  6.55214483\n",
      "  1.47853068  2.12820459  4.91082971  4.61933261  0.87868231 11.23439535\n",
      "  1.2225106   9.47734446  1.78369313  0.71236204  2.52301673  4.12908629\n",
      "  2.52119257  8.25821147  1.83749733  5.93966434]\n"
     ]
    }
   ],
   "source": [
    "# Generate an array of 100 elements following a normal distribution. Both are basically the same \n",
    "# if \"np.random.normal\" mean and std are specified at the time or running the line. \n",
    "\n",
    "a_norm1 = np.random.randn(100)     # Option 1\n",
    "a_norm2 = np.random.normal(size=100)    # Option 2 \n",
    "\n",
    "# Generate an array of 100 elements following a chi-square distribution with 3 degrees of freedom.\n",
    "a_chi = np.random.chisquare(3, size=100)\n",
    "\n",
    "print(\"Normal Distribution with mean 0 and std 1\\n\\n{}\".format(a_norm1))\n",
    "print('\\n')\n",
    "print(\"Chi-square Distribution with 3 degrees of freedom\\n\\n{}\".format(a_chi))"
   ]
  },
  {
   "cell_type": "code",
   "execution_count": 31,
   "id": "6d2040f3-861e-4141-8ea0-40ac3e803038",
   "metadata": {},
   "outputs": [
    {
     "name": "stdout",
     "output_type": "stream",
     "text": [
      "The Mean for our normal distribution is 0.06935624688671699\n",
      "The Mean for our chi-square distribution is 3.3840316902785132\n",
      "\n",
      "The Median for our normal distribution is 0.19161754637444053\n",
      "The Median for our chi-square distribution is 2.5042986327368597\n",
      "\n",
      "The Mode for our normal distribution is 1.614913174257154\n",
      "The Mode for our chi-square distribution is 4.918859095037631\n",
      "\n",
      "The Range for our normal distribution is 6.414768546859801\n",
      "The Range for our chi-square distribution is 11.487976021812951\n",
      "\n",
      "The Variance for our normal distribution is 1.3131211693426994\n",
      "The Variance for our chi-square distribution is 7.882472351462209\n",
      "\n",
      "The Standard Deviation for our normal distribution is 1.1459149921973704\n",
      "The Standard Deviation for our chi-square distribution is 2.8075741043581037\n",
      "\n",
      "The Quantiles for our normal distribution are [-0.7427933373446398, 0.19161754637444053, 0.8633860558664348]\n",
      "The Quantiles for our chi-square distribution are [1.469993393675397, 2.5042986327368597, 4.438048504644716]\n",
      "\n",
      "The Skewness for our normal distribution is -0.4493421707420242\n",
      "The Skewness for our chi-square distribution is 1.2379302930199012\n",
      "\n",
      "The Kurtosis for our normal distribution is 0.19194033377142983\n",
      "The Kurtosis for our chi-square distribution is 0.8662822949461599\n",
      "\n"
     ]
    }
   ],
   "source": [
    "# Calculate the main metrics and statistical measures that best describe the two vectors.\n",
    "\n",
    "# Mean\n",
    "m1 = stats.mean(a_norm1)\n",
    "m2 = stats.mean(a_chi)\n",
    "print(f'The Mean for our normal distribution is {m1}')\n",
    "print(f'The Mean for our chi-square distribution is {m2}\\n')\n",
    "\n",
    "# Median\n",
    "mdn1 = stats.median(a_norm1)\n",
    "mdn2 = stats.median(a_chi)\n",
    "print(f'The Median for our normal distribution is {mdn1}')\n",
    "print(f'The Median for our chi-square distribution is {mdn2}\\n')\n",
    "\n",
    "# Mode\n",
    "mode1 = stats.mode(a_norm1)\n",
    "mode2 = stats.mode(a_chi)\n",
    "print(f'The Mode for our normal distribution is {mode1}')\n",
    "print(f'The Mode for our chi-square distribution is {mode2}\\n')\n",
    "\n",
    "# Range\n",
    "r1 = max(a_norm1) - min(a_norm1)\n",
    "r2 = max(a_chi) - min(a_chi)\n",
    "print(f'The Range for our normal distribution is {r1}')\n",
    "print(f'The Range for our chi-square distribution is {r2}\\n')\n",
    "\n",
    "# Variance\n",
    "v1 = stats.variance(a_norm1)\n",
    "v2 = stats.variance(a_chi)\n",
    "print(f'The Variance for our normal distribution is {v1}')\n",
    "print(f'The Variance for our chi-square distribution is {v2}\\n')\n",
    "\n",
    "# Standard Deviation\n",
    "std1 = stats.stdev(a_norm1)\n",
    "std2 = stats.stdev(a_chi)\n",
    "print(f'The Standard Deviation for our normal distribution is {std1}')\n",
    "print(f'The Standard Deviation for our chi-square distribution is {std2}\\n')\n",
    "\n",
    "# Quantiles\n",
    "q1 = stats.quantiles(a_norm1, n=4)\n",
    "q2 = stats.quantiles(a_chi, n=4)\n",
    "print(f'The Quantiles for our normal distribution are {q1}')\n",
    "print(f'The Quantiles for our chi-square distribution are {q2}\\n')\n",
    "\n",
    "# Skewness\n",
    "sk1 = skew(a_norm1)\n",
    "sk2 = skew(a_chi)\n",
    "print(f'The Skewness for our normal distribution is {sk1}')\n",
    "print(f'The Skewness for our chi-square distribution is {sk2}\\n')\n",
    "\n",
    "# Kurtosis\n",
    "kur1 = kurtosis(a_norm1)\n",
    "kur2 = kurtosis(a_chi)\n",
    "print(f'The Kurtosis for our normal distribution is {kur1}')\n",
    "print(f'The Kurtosis for our chi-square distribution is {kur2}\\n')\n"
   ]
  },
  {
   "cell_type": "code",
   "execution_count": 185,
   "id": "2da711cf-032f-458f-a29f-738bc2ff77c8",
   "metadata": {},
   "outputs": [
    {
     "data": {
      "image/png": "[encoded data removed]",
      "text/plain": [
       "<Figure size 640x480 with 1 Axes>"
      ]
     },
     "metadata": {},
     "output_type": "display_data"
    }
   ],
   "source": [
    "plt.hist(a_norm1, bins=15, color='c', edgecolor='k', alpha=0.6, linewidth=0.5)\n",
    "plt.axvline(m1, color='k', linestyle='dashed', linewidth=1.2, label='Mean')\n",
    "plt.axvline(mdn1, color='slategray', linestyle='dashed', linewidth=1.2, label='Mode')\n",
    "min_ylim, max_ylim = plt.ylim()\n",
    "plt.text(m1 * 1.8, max_ylim * .9, 'Mean: {:.2f}'.format(m1), color='k')\n",
    "plt.text(mdn1 * 1.5, max_ylim * .8, 'Mode: {:.2f}'.format(mdn1), color='k')\n",
    "plt.title('Normal Distribution')\n",
    "plt.legend()\n",
    "plt.show()"
   ]
  },
  {
   "cell_type": "code",
   "execution_count": 171,
   "id": "c0db006a-2103-4d14-83bf-9f669665c493",
   "metadata": {},
   "outputs": [
    {
     "data": {
      "image/png": "[encoded data removed]",
      "text/plain": [
       "<Figure size 640x480 with 1 Axes>"
      ]
     },
     "metadata": {},
     "output_type": "display_data"
    }
   ],
   "source": [
    "plt.hist(a_chi, bins=15, color='lightcoral', edgecolor='k', alpha=0.6, linewidth=0.5)\n",
    "plt.axvline(m2, color='navy', linestyle='dashed', linewidth=1.2, label='Mean', alpha=0.6)\n",
    "plt.axvline(mdn2, color='darkorchid', linestyle='dashed', linewidth=1.2, label='Mode')\n",
    "min_ylim, max_ylim = plt.ylim()\n",
    "plt.text(m2 * 1.05, max_ylim * .9, 'Mean: {:.2f}'.format(m2), color='k')\n",
    "plt.text(mdn2 * 1.075, max_ylim * .8, 'Mode: {:.2f}'.format(mdn2), color='k')\n",
    "plt.title('Chi-Square Distribution')\n",
    "plt.legend()\n",
    "plt.show()"
   ]
  },
  {
   "cell_type": "markdown",
   "id": "46c70c3d",
   "metadata": {},
   "source": [
    "### Exercise 2\n",
    "\n",
    "Write a Python program to calculate the standard deviation of the following data:\n",
    "\n",
    "```py\n",
    "data = [4, 2, 5, 8, 6]\n",
    "```"
   ]
  },
  {
   "cell_type": "code",
   "execution_count": 29,
   "id": "d590308e",
   "metadata": {},
   "outputs": [
    {
     "data": {
      "text/plain": [
       "2.0"
      ]
     },
     "execution_count": 29,
     "metadata": {},
     "output_type": "execute_result"
    }
   ],
   "source": [
    "# TODO\n",
    "\n",
    "data = [4, 2, 5, 8, 6]\n",
    "\n",
    "def st_dev(x):\n",
    "    return np.std(x)\n",
    "\n",
    "st_dev(data)"
   ]
  },
  {
   "cell_type": "code",
   "execution_count": null,
   "id": "5d8487ef-8f04-4093-b432-071d6be747eb",
   "metadata": {},
   "outputs": [],
   "source": []
  }
 ],
 "metadata": {
  "interpreter": {
   "hash": "9248718ffe6ce6938b217e69dbcc175ea21f4c6b28a317e96c05334edae734bb"
  },
  "kernelspec": {
   "display_name": "Python 3 (ipykernel)",
   "language": "python",
   "name": "python3"
  },
  "language_info": {
   "codemirror_mode": {
    "name": "ipython",
    "version": 3
   },
   "file_extension": ".py",
   "mimetype": "text/x-python",
   "name": "python",
   "nbconvert_exporter": "python",
   "pygments_lexer": "ipython3",
   "version": "3.11.7"
  }
 },
 "nbformat": 4,
 "nbformat_minor": 5
}
